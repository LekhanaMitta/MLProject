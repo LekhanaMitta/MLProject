{
  "nbformat": 4,
  "nbformat_minor": 0,
  "metadata": {
    "colab": {
      "provenance": []
    },
    "kernelspec": {
      "name": "python3",
      "display_name": "Python 3"
    },
    "language_info": {
      "name": "python"
    }
  },
  "cells": [
    {
      "cell_type": "code",
      "execution_count": 1,
      "metadata": {
        "id": "OUuj1eHgnKtd"
      },
      "outputs": [],
      "source": [
        "import pandas as pd\n",
        "import numpy as np\n",
        "import matplotlib as plt\n",
        "from sklearn.linear_model import LinearRegression\n",
        "from statsmodels.tsa.arima.model import ARIMA\n",
        "from sklearn.metrics import mean_squared_error, r2_score, mean_absolute_error"
      ]
    },
    {
      "cell_type": "markdown",
      "source": [
        "**Data Collecting and Data Cleaning:**"
      ],
      "metadata": {
        "id": "zTsa_49Dssjh"
      }
    },
    {
      "cell_type": "code",
      "source": [
        "df_org = pd.read_excel('/content/drive/MyDrive/Machine Learning/Datasets/Minor Project Data set (Stock Price Prediction) (1).xlsx')\n",
        "df = df_org\n",
        "df.sort_values('Date', inplace=True)"
      ],
      "metadata": {
        "id": "0EU9bv5Nr_OB"
      },
      "execution_count": 2,
      "outputs": []
    },
    {
      "cell_type": "code",
      "source": [
        "df.index"
      ],
      "metadata": {
        "colab": {
          "base_uri": "https://localhost:8080/"
        },
        "id": "kaFWLXZZs7xH",
        "outputId": "c39eedb4-5d8f-4158-81ce-d0dafe093a36"
      },
      "execution_count": 3,
      "outputs": [
        {
          "output_type": "execute_result",
          "data": {
            "text/plain": [
              "RangeIndex(start=0, stop=1009, step=1)"
            ]
          },
          "metadata": {},
          "execution_count": 3
        }
      ]
    },
    {
      "cell_type": "code",
      "source": [
        "df.columns"
      ],
      "metadata": {
        "colab": {
          "base_uri": "https://localhost:8080/"
        },
        "id": "Fw_USdeJtBRJ",
        "outputId": "7312b78d-56ae-4567-e61d-2ce074f226a9"
      },
      "execution_count": 4,
      "outputs": [
        {
          "output_type": "execute_result",
          "data": {
            "text/plain": [
              "Index(['Date', 'Open', 'High', 'Low', 'Close', 'Adj Close', 'Volume'], dtype='object')"
            ]
          },
          "metadata": {},
          "execution_count": 4
        }
      ]
    },
    {
      "cell_type": "code",
      "source": [
        "df.shape"
      ],
      "metadata": {
        "colab": {
          "base_uri": "https://localhost:8080/"
        },
        "id": "Kl9HjgcatDY4",
        "outputId": "ef87017d-05a1-46f2-bfb9-061c9bc905ab"
      },
      "execution_count": 5,
      "outputs": [
        {
          "output_type": "execute_result",
          "data": {
            "text/plain": [
              "(1009, 7)"
            ]
          },
          "metadata": {},
          "execution_count": 5
        }
      ]
    },
    {
      "cell_type": "code",
      "source": [
        "df.info()"
      ],
      "metadata": {
        "colab": {
          "base_uri": "https://localhost:8080/"
        },
        "id": "JrmfM49ctO-h",
        "outputId": "3e8a6b2f-57df-402b-a9ca-0a5affda3cc7"
      },
      "execution_count": 6,
      "outputs": [
        {
          "output_type": "stream",
          "name": "stdout",
          "text": [
            "<class 'pandas.core.frame.DataFrame'>\n",
            "RangeIndex: 1009 entries, 0 to 1008\n",
            "Data columns (total 7 columns):\n",
            " #   Column     Non-Null Count  Dtype         \n",
            "---  ------     --------------  -----         \n",
            " 0   Date       1009 non-null   datetime64[ns]\n",
            " 1   Open       1009 non-null   float64       \n",
            " 2   High       1009 non-null   float64       \n",
            " 3   Low        1009 non-null   float64       \n",
            " 4   Close      1009 non-null   float64       \n",
            " 5   Adj Close  1009 non-null   float64       \n",
            " 6   Volume     1009 non-null   int64         \n",
            "dtypes: datetime64[ns](1), float64(5), int64(1)\n",
            "memory usage: 55.3 KB\n"
          ]
        }
      ]
    },
    {
      "cell_type": "markdown",
      "source": [
        "**Handling Missing Data:**"
      ],
      "metadata": {
        "id": "0mvnx2xCteGq"
      }
    },
    {
      "cell_type": "code",
      "source": [
        "df.isna().sum()"
      ],
      "metadata": {
        "colab": {
          "base_uri": "https://localhost:8080/"
        },
        "id": "g6fedlZKscUQ",
        "outputId": "23007fac-d863-493a-cc9a-177ad3f13125"
      },
      "execution_count": 7,
      "outputs": [
        {
          "output_type": "execute_result",
          "data": {
            "text/plain": [
              "Date         0\n",
              "Open         0\n",
              "High         0\n",
              "Low          0\n",
              "Close        0\n",
              "Adj Close    0\n",
              "Volume       0\n",
              "dtype: int64"
            ]
          },
          "metadata": {},
          "execution_count": 7
        }
      ]
    },
    {
      "cell_type": "markdown",
      "source": [
        "**Data Understanding:**"
      ],
      "metadata": {
        "id": "SutQcRaotwPU"
      }
    },
    {
      "cell_type": "code",
      "source": [
        "# Percentage change in daily price.\n",
        "# How many percent of days does the daily change percent is negative and positive.\n",
        "df['Daily Price Change Percentage'] = ((df['Close'] - df['Open'])/df['Close']) * 100\n",
        "cnt1 = 0\n",
        "cnt2 = 0\n",
        "cnt3 = 0\n",
        "for j in range(0, df.shape[0]):\n",
        "  if(df.iloc[j ,df.shape[1]-1] < 0):\n",
        "    cnt1 = cnt1 + 1\n",
        "  elif df.iloc[j , df.shape[1]-1] == 0:\n",
        "    cnt2 = cnt2 + 1\n",
        "  else:\n",
        "    cnt3 = cnt3 + 1\n",
        "\n",
        "print(\"Number of days Open value is greater than Close Value: \", cnt1)\n",
        "print(\"Number of days Open value is lesser than Close Value: \", cnt3)\n",
        "print(\"Number of days Open value is equal to Close Value: \", cnt2)"
      ],
      "metadata": {
        "colab": {
          "base_uri": "https://localhost:8080/"
        },
        "id": "L8as3Wr4upd2",
        "outputId": "afefc5e6-a80a-44d1-f0f5-aa4f553f1e46"
      },
      "execution_count": 8,
      "outputs": [
        {
          "output_type": "stream",
          "name": "stdout",
          "text": [
            "Number of days Open value is greater than Close Value:  506\n",
            "Number of days Open value is lesser than Close Value:  502\n",
            "Number of days Open value is equal to Close Value:  1\n"
          ]
        }
      ]
    },
    {
      "cell_type": "code",
      "source": [
        "# How is average value of the stock related to the closing price.\n",
        "df['Average Price Value'] = (df['Open'] + df['Close'] + df['Low'] + df['High'])/4\n",
        "cnt1 = 0\n",
        "cnt2 = 0\n",
        "cnt3 = 0\n",
        "for j in range(0, df.shape[0]):\n",
        "  # print(df.iloc[j, 4],\"------\", df.iloc[j, 8])\n",
        "  if(df.iloc[j, 4] < df.iloc[j, 8]):\n",
        "    cnt1 = cnt1 + 1\n",
        "  elif(df.iloc[j, 4] == df.iloc[j, 8]):\n",
        "    cnt2 = cnt2 + 1\n",
        "  else:\n",
        "    cnt3 = cnt3 + 1\n",
        "\n",
        "print(\"Number of days where closing price is less than the average of price : \", cnt1)\n",
        "print(\"Number of days where closing price is greater than the average of price : \", cnt3)\n"
      ],
      "metadata": {
        "colab": {
          "base_uri": "https://localhost:8080/"
        },
        "id": "WiEDkGMHyJo5",
        "outputId": "f9908ad4-d3c9-4cd1-f118-61efdc0bb9cd"
      },
      "execution_count": 9,
      "outputs": [
        {
          "output_type": "stream",
          "name": "stdout",
          "text": [
            "Number of days where closing price is less than the average of price :  497\n",
            "Number of days where closing price is greater than the average of price :  512\n"
          ]
        }
      ]
    },
    {
      "cell_type": "code",
      "source": [
        "# Months with large volatility or percentage change.\n",
        "df['volatility'] = df['High'] - df['Low']\n",
        "df['month'] = df['Date'].dt.month\n",
        "volatile_days = df.nlargest(100, 'volatility')\n",
        "volatile = volatile_days.groupby('month')[['volatility']].count()\n",
        "volatile.plot(kind = 'bar')"
      ],
      "metadata": {
        "colab": {
          "base_uri": "https://localhost:8080/",
          "height": 470
        },
        "id": "j6pI1BhHYJVI",
        "outputId": "694b10a7-7769-4253-f8ee-53b6cc9df6cd"
      },
      "execution_count": 10,
      "outputs": [
        {
          "output_type": "execute_result",
          "data": {
            "text/plain": [
              "<Axes: xlabel='month'>"
            ]
          },
          "metadata": {},
          "execution_count": 10
        },
        {
          "output_type": "display_data",
          "data": {
            "text/plain": [
              "<Figure size 640x480 with 1 Axes>"
            ],
            "image/png": "[encoded data removed]"
          },
          "metadata": {}
        }
      ]
    },
    {
      "cell_type": "code",
      "source": [
        "# Detecting Abnormal Gaps Between Close and Next Day Open:\n",
        "df['overnight_return'] = df['Open'].shift(-1) - df['Close']\n",
        "cnt1 = 0\n",
        "cnt2 = 0\n",
        "cnt3 = 0\n",
        "for i in range(0, df.shape[0]):\n",
        "  if(df.iloc[i, df.shape[1]-1] > 0):\n",
        "    cnt1 = cnt1 + 1\n",
        "  elif(df.iloc[i, df.shape[1]-1] < 0):\n",
        "    cnt2 = cnt2 + 1\n",
        "  else:\n",
        "    cnt3 = cnt3 + 1\n",
        "\n",
        "print(\"The opening price of stock is greater than the last closing price : \", cnt1)\n",
        "print(\"The opening price of stock is lesser than the last closing price : \", cnt2)\n",
        "print(\"The opening price of stock is equal to the last closing price : \", cnt3)"
      ],
      "metadata": {
        "colab": {
          "base_uri": "https://localhost:8080/"
        },
        "id": "OmyV_BiGTmvo",
        "outputId": "3e00f38d-ffb2-4d06-eee5-d99f05cb1785"
      },
      "execution_count": 11,
      "outputs": [
        {
          "output_type": "stream",
          "name": "stdout",
          "text": [
            "The opening price of stock is greater than the last closing price :  570\n",
            "The opening price of stock is lesser than the last closing price :  431\n",
            "The opening price of stock is equal to the last closing price :  8\n"
          ]
        }
      ]
    },
    {
      "cell_type": "code",
      "source": [
        "# Detecting the weekday abnormal gaps between close and next day opening:\n",
        "df['weekday'] = df['Date'].dt.weekday\n",
        "weekday_avg = df.groupby('weekday')['volatility'].mean()\n",
        "weekday_avg"
      ],
      "metadata": {
        "colab": {
          "base_uri": "https://localhost:8080/"
        },
        "id": "bX3ZcHwEVXOe",
        "outputId": "b9de774d-ca90-4650-9eb2-14249d0ca061"
      },
      "execution_count": 12,
      "outputs": [
        {
          "output_type": "execute_result",
          "data": {
            "text/plain": [
              "weekday\n",
              "0    13.458384\n",
              "1    12.533720\n",
              "2    13.651853\n",
              "3    12.770441\n",
              "4    12.342735\n",
              "Name: volatility, dtype: float64"
            ]
          },
          "metadata": {},
          "execution_count": 12
        }
      ]
    },
    {
      "cell_type": "code",
      "source": [
        "df['month'] = df['Date'].dt.month\n",
        "monthly_avg = df.groupby('month')['volatility'].mean()\n",
        "monthly_avg"
      ],
      "metadata": {
        "colab": {
          "base_uri": "https://localhost:8080/"
        },
        "id": "M9TR4I6jWiR2",
        "outputId": "64307745-52a0-46d0-fc92-d9b42be47560"
      },
      "execution_count": 13,
      "outputs": [
        {
          "output_type": "execute_result",
          "data": {
            "text/plain": [
              "month\n",
              "1     14.958888\n",
              "2     12.410257\n",
              "3     15.050687\n",
              "4     12.224287\n",
              "5      9.791072\n",
              "6     11.043764\n",
              "7     13.505815\n",
              "8     10.749430\n",
              "9     14.332717\n",
              "10    15.415505\n",
              "11    13.149510\n",
              "12    12.707734\n",
              "Name: volatility, dtype: float64"
            ]
          },
          "metadata": {},
          "execution_count": 13
        }
      ]
    },
    {
      "cell_type": "code",
      "source": [
        "# Monthly average Volume traded\n",
        "monthly_volume = df.groupby('month')['Volume'].mean()\n",
        "monthly_volume.plot(kind = 'bar')\n",
        "# Total volume traded\n",
        "print(\"Total volume traded : \", df['Volume'].sum())"
      ],
      "metadata": {
        "colab": {
          "base_uri": "https://localhost:8080/",
          "height": 485
        },
        "id": "zMqutdDkGmoj",
        "outputId": "b9d4b09f-344f-408b-8a17-bafdef9c4750"
      },
      "execution_count": 14,
      "outputs": [
        {
          "output_type": "stream",
          "name": "stdout",
          "text": [
            "Total volume traded :  7638821200\n"
          ]
        },
        {
          "output_type": "display_data",
          "data": {
            "text/plain": [
              "<Figure size 640x480 with 1 Axes>"
            ],
            "image/png": "[encoded data removed]"
          },
          "metadata": {}
        }
      ]
    },
    {
      "cell_type": "code",
      "source": [
        "# How are volume traded distributed based on month\n",
        "monthly_volume = monthly_volume.plot(kind = 'line')"
      ],
      "metadata": {
        "colab": {
          "base_uri": "https://localhost:8080/",
          "height": 465
        },
        "id": "a8jvBmkpLd3U",
        "outputId": "8b081461-6a1a-4338-af41-9865272a957d"
      },
      "execution_count": 15,
      "outputs": [
        {
          "output_type": "display_data",
          "data": {
            "text/plain": [
              "<Figure size 640x480 with 1 Axes>"
            ],
            "image/png": "[encoded data removed]"
          },
          "metadata": {}
        }
      ]
    },
    {
      "cell_type": "markdown",
      "source": [
        "**Using Linear Regression for forecasting and finding accuracy of Close price and Volume**"
      ],
      "metadata": {
        "id": "8vIMof50fuo_"
      }
    },
    {
      "cell_type": "code",
      "source": [
        "# Forecasting with Linear Regression\n",
        "model = LinearRegression()\n",
        "X = df.index.values.reshape(-1, 1)  # assuming index corresponds to time\n",
        "y = df['Close'].values\n",
        "model.fit(X, y)\n",
        "df['predicted_close'] = model.predict(X)"
      ],
      "metadata": {
        "id": "y90kUZOkYYZm"
      },
      "execution_count": 16,
      "outputs": []
    },
    {
      "cell_type": "code",
      "source": [
        "# Finding the accuracy of Linear Regression Model which predicts close price\n",
        "mse = mean_squared_error(df['Close'], df['predicted_close'])\n",
        "rmse = np.sqrt(mse)\n",
        "mae = mean_absolute_error(df['Close'], df['predicted_close'])\n",
        "df['mape_close_LR'] = (abs(df['Close'] - df['predicted_close'])/df['Close']) * 100\n",
        "r2 = r2_score(df['Close'], df['predicted_close'])\n",
        "print(df['mape_close_LR'].mean())"
      ],
      "metadata": {
        "colab": {
          "base_uri": "https://localhost:8080/"
        },
        "id": "6TSsyILCZT0C",
        "outputId": "2e38922b-a199-4c61-d5c3-2b2dff4a899d"
      },
      "execution_count": 17,
      "outputs": [
        {
          "output_type": "stream",
          "name": "stdout",
          "text": [
            "12.074577916580273\n"
          ]
        }
      ]
    },
    {
      "cell_type": "code",
      "source": [
        "# Predicting Future volume trends using Linear Regression\n",
        "vol_model = LinearRegression()\n",
        "vol_X = df.index.values.reshape(-1, 1)  # Assuming index corresponds to time\n",
        "vol_y = df['Volume'].values\n",
        "vol_model.fit(vol_X, vol_y)\n",
        "df['predicted_volume'] = vol_model.predict(vol_X)\n"
      ],
      "metadata": {
        "id": "foBnQPkAiiLJ"
      },
      "execution_count": 18,
      "outputs": []
    },
    {
      "cell_type": "code",
      "source": [
        "# Finding accuracy of predicted values of volume using Linear Regression.\n",
        "mse = mean_squared_error(df['Volume'], df['predicted_volume'])\n",
        "rmse = np.sqrt(mse)\n",
        "mae = mean_absolute_error(df['Volume'], df['predicted_volume'])\n",
        "df['mape_volume_LR'] = (abs(df['Volume'] - df['predicted_volume'])/df['Volume']) * 100\n",
        "r2 = r2_score(df['Volume'], df['predicted_volume'])\n",
        "print(df['mape_volume_LR'].mean())"
      ],
      "metadata": {
        "colab": {
          "base_uri": "https://localhost:8080/"
        },
        "id": "5T4Q3Hubixhp",
        "outputId": "960ef30e-fcdf-422d-cb3d-a4c3d236814e"
      },
      "execution_count": 19,
      "outputs": [
        {
          "output_type": "stream",
          "name": "stdout",
          "text": [
            "46.93795962642824\n"
          ]
        }
      ]
    },
    {
      "cell_type": "markdown",
      "source": [
        "**Using ARIMA for forecasting and finding accuracy of the forecasted values of Close price and Volume**"
      ],
      "metadata": {
        "id": "adEIwvcsf5PA"
      }
    },
    {
      "cell_type": "code",
      "source": [
        "# Forecasting Close values with ARIMA\n",
        "model = ARIMA(df['Close'], order=(1, 1, 1))\n",
        "result = model.fit()\n",
        "df['forecast_close'] = result.predict(start=0, end=len(df), typ='levels')"
      ],
      "metadata": {
        "colab": {
          "base_uri": "https://localhost:8080/"
        },
        "id": "XbjyudoCZCp-",
        "outputId": "46a8c2d5-4a61-486e-96ea-bbf0c4a1f085"
      },
      "execution_count": 20,
      "outputs": [
        {
          "output_type": "stream",
          "name": "stderr",
          "text": [
            "/usr/local/lib/python3.10/dist-packages/statsmodels/tsa/statespace/representation.py:374: FutureWarning: Unknown keyword arguments: dict_keys(['typ']).Passing unknown keyword arguments will raise a TypeError beginning in version 0.15.\n",
            "  warnings.warn(msg, FutureWarning)\n"
          ]
        }
      ]
    },
    {
      "cell_type": "code",
      "source": [
        "# Finding accuracy of Predicted values of Close using ARIMA\n",
        "mse = mean_squared_error(df['Close'], df['forecast_close'])\n",
        "rmse = np.sqrt(mse)\n",
        "mae = mean_absolute_error(df['Close'], df['forecast_close'])\n",
        "df['mape_close_ARIMA'] = (abs(df['Close'] - df['forecast_close'])/df['Close']) * 100\n",
        "r2 = r2_score(df['Close'], df['forecast_close'])\n",
        "print(df['mape_close_ARIMA'].mean())"
      ],
      "metadata": {
        "colab": {
          "base_uri": "https://localhost:8080/"
        },
        "id": "APJ6-ii6cy_0",
        "outputId": "63e73739-9706-4772-921f-3002545d9b4b"
      },
      "execution_count": 21,
      "outputs": [
        {
          "output_type": "stream",
          "name": "stdout",
          "text": [
            "1.9473833857811829\n"
          ]
        }
      ]
    },
    {
      "cell_type": "code",
      "source": [
        "# Finding the future trends of Volume using ARIMA\n",
        "model = ARIMA(df['Volume'], order=(1, 1, 1))\n",
        "result = model.fit()\n",
        "df['forecast_volume'] = result.predict(start=0, end=len(df), typ='levels')"
      ],
      "metadata": {
        "colab": {
          "base_uri": "https://localhost:8080/"
        },
        "id": "c1XxtkNldcqL",
        "outputId": "80c519a5-a9b2-4877-b923-25f66c763f20"
      },
      "execution_count": 22,
      "outputs": [
        {
          "output_type": "stream",
          "name": "stderr",
          "text": [
            "/usr/local/lib/python3.10/dist-packages/statsmodels/tsa/statespace/representation.py:374: FutureWarning: Unknown keyword arguments: dict_keys(['typ']).Passing unknown keyword arguments will raise a TypeError beginning in version 0.15.\n",
            "  warnings.warn(msg, FutureWarning)\n"
          ]
        }
      ]
    },
    {
      "cell_type": "code",
      "source": [
        "# Finding the accuracy of forecasted values of volume using ARIMA\n",
        "mse = mean_squared_error(df['Volume'], df['forecast_volume'])\n",
        "rmse = np.sqrt(mse)\n",
        "mae = mean_absolute_error(df['Volume'], df['forecast_volume'])\n",
        "df['mape_volume_ARIMA'] = (abs(df['Volume'] - df['forecast_volume'])/df['Volume']) * 100\n",
        "r2 = r2_score(df['Volume'], df['forecast_volume'])\n",
        "print(df['mape_volume_ARIMA'].mean())"
      ],
      "metadata": {
        "colab": {
          "base_uri": "https://localhost:8080/"
        },
        "id": "tCo8cfvBdo07",
        "outputId": "10dc70c7-5e24-48d0-f082-4d754cc2926e"
      },
      "execution_count": 23,
      "outputs": [
        {
          "output_type": "stream",
          "name": "stdout",
          "text": [
            "29.618726800474562\n"
          ]
        }
      ]
    },
    {
      "cell_type": "markdown",
      "source": [
        "**Using Moving average to forecast and finding accuracy of forecasted Close price and Volume**"
      ],
      "metadata": {
        "id": "hqgcGAlTgHyb"
      }
    },
    {
      "cell_type": "code",
      "source": [
        "# Finding the future trends of Close price using Moving Average\n",
        "# Calculate the moving average\n",
        "df['moving_avg_close'] = df['Close'].rolling(window=10).mean()  # 10-day moving average\n",
        "# Shift the moving average by one day forward for prediction\n",
        "df['predicted_close_ma'] = df['moving_avg_close'].shift(1)\n"
      ],
      "metadata": {
        "id": "V1u76G4YgS-T"
      },
      "execution_count": 24,
      "outputs": []
    },
    {
      "cell_type": "code",
      "source": [
        "df.dropna(subset=['predicted_close_ma'], inplace=True)\n",
        "mse = mean_squared_error(df['Close'], df['predicted_close_ma'])\n",
        "rmse = np.sqrt(mse)\n",
        "mae = mean_absolute_error(df['Close'], df['predicted_close_ma'])\n",
        "df['mape_close_ma'] = (abs(df['Close'] - df['predicted_close_ma'])/df['Close']) * 100\n",
        "r2 = r2_score(df['Close'], df['predicted_close_ma'])\n",
        "print(df['mape_close_ma'].mean())"
      ],
      "metadata": {
        "colab": {
          "base_uri": "https://localhost:8080/"
        },
        "id": "qnegFxgAh4tA",
        "outputId": "88850e58-0246-4cfe-9c1d-35c0349127d0"
      },
      "execution_count": 25,
      "outputs": [
        {
          "output_type": "stream",
          "name": "stdout",
          "text": [
            "3.6120792531977908\n"
          ]
        }
      ]
    },
    {
      "cell_type": "code",
      "source": [
        "# Finding the future trends of Volume using Moving Average\n",
        "# Calculate the moving average\n",
        "df['moving_avg_volume'] = df['Volume'].rolling(window=10).mean()  # 10-day moving average\n",
        "# Shift the moving average by one day forward for prediction\n",
        "df['predicted_volume_ma'] = df['moving_avg_volume'].shift(1)"
      ],
      "metadata": {
        "id": "EUSDNoUTib7H"
      },
      "execution_count": 26,
      "outputs": []
    },
    {
      "cell_type": "code",
      "source": [
        "df.dropna(subset=['predicted_volume_ma'], inplace=True)\n",
        "mse = mean_squared_error(df['Volume'], df['predicted_volume_ma'])\n",
        "rmse = np.sqrt(mse)\n",
        "mae = mean_absolute_error(df['Volume'], df['predicted_volume_ma'])\n",
        "df['mape_volume_ma'] = (abs(df['Volume'] - df['predicted_volume_ma'])/df['Volume']) * 100\n",
        "r2 = r2_score(df['Volume'], df['predicted_volume_ma'])\n",
        "print(df['mape_volume_ma'].mean())"
      ],
      "metadata": {
        "colab": {
          "base_uri": "https://localhost:8080/"
        },
        "id": "7XfrLTs1iqKs",
        "outputId": "a782b711-dd21-45c9-cb8a-8843c5ea7a24"
      },
      "execution_count": 27,
      "outputs": [
        {
          "output_type": "stream",
          "name": "stdout",
          "text": [
            "36.36428990569825\n"
          ]
        }
      ]
    }
  ]
}